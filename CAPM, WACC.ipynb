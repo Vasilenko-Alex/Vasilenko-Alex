{
 "cells": [
  {
   "cell_type": "code",
   "execution_count": 1,
   "metadata": {},
   "outputs": [
    {
     "name": "stdout",
     "output_type": "stream",
     "text": [
      "Cost of Equity:0.084\n",
      "WACC:0.0497\n"
     ]
    }
   ],
   "source": [
    "def capm():\n",
    "    beta = 1.1\n",
    "    risk_free_rate = 0.04\n",
    "    expected_market_return = 0.08\n",
    "    CAPM = risk_free_rate + beta * (expected_market_return - risk_free_rate) \n",
    "    return CAPM\n",
    "cost_of_equity = capm()\n",
    "\n",
    "\n",
    "def wacc(cost_of_equity):\n",
    "    debt_to_total_capital = 0.7\n",
    "    cost_of_debt = 0.05 \n",
    "    tax_rate = 0.3\n",
    "    calculation = ((cost_of_debt * (1 - tax_rate)) * debt_to_total_capital) + ((1 - debt_to_total_capital) * cost_of_equity)\n",
    "    return calculation\n",
    "\n",
    "WACC = wacc(cost_of_equity) \n",
    "\n",
    "print(f'Cost of Equity:{cost_of_equity}')\n",
    "print(f'WACC:{WACC}')\n",
    "\n"
   ]
  },
  {
   "cell_type": "code",
   "execution_count": null,
   "metadata": {},
   "outputs": [],
   "source": []
  }
 ],
 "metadata": {
  "kernelspec": {
   "display_name": "base",
   "language": "python",
   "name": "python3"
  },
  "language_info": {
   "codemirror_mode": {
    "name": "ipython",
    "version": 3
   },
   "file_extension": ".py",
   "mimetype": "text/x-python",
   "name": "python",
   "nbconvert_exporter": "python",
   "pygments_lexer": "ipython3",
   "version": "3.9.7"
  },
  "orig_nbformat": 4
 },
 "nbformat": 4,
 "nbformat_minor": 2
}
