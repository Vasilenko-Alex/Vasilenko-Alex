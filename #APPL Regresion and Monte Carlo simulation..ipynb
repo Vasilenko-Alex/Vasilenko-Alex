{
 "cells": [
  {
   "cell_type": "code",
   "execution_count": 14,
   "metadata": {},
   "outputs": [
    {
     "name": "stdout",
     "output_type": "stream",
     "text": [
      "                            OLS Regression Results                            \n",
      "==============================================================================\n",
      "Dep. Variable:                      y   R-squared:                       0.992\n",
      "Model:                            OLS   Adj. R-squared:                  0.991\n",
      "Method:                 Least Squares   F-statistic:                     645.5\n",
      "Date:                Thu, 03 Aug 2023   Prob (F-statistic):           1.76e-06\n",
      "Time:                        15:39:59   Log-Likelihood:                -63.886\n",
      "No. Observations:                   7   AIC:                             131.8\n",
      "Df Residuals:                       5   BIC:                             131.7\n",
      "Df Model:                           1                                         \n",
      "Covariance Type:            nonrobust                                         \n",
      "==============================================================================\n",
      "                 coef    std err          t      P>|t|      [0.025      0.975]\n",
      "------------------------------------------------------------------------------\n",
      "const      -3.049e+04   5513.326     -5.531      0.003   -4.47e+04   -1.63e+04\n",
      "x1             0.4094      0.016     25.408      0.000       0.368       0.451\n",
      "==============================================================================\n",
      "Omnibus:                          nan   Durbin-Watson:                   1.935\n",
      "Prob(Omnibus):                    nan   Jarque-Bera (JB):                0.519\n",
      "Skew:                          -0.629   Prob(JB):                        0.771\n",
      "Kurtosis:                       3.441   Cond. No.                     1.90e+06\n",
      "==============================================================================\n",
      "\n",
      "Notes:\n",
      "[1] Standard Errors assume that the covariance matrix of the errors is correctly specified.\n",
      "[2] The condition number is large, 1.9e+06. This might indicate that there are\n",
      "strong multicollinearity or other numerical problems.\n"
     ]
    },
    {
     "name": "stderr",
     "output_type": "stream",
     "text": [
      "c:\\Users\\avasi\\anaconda3\\lib\\site-packages\\statsmodels\\stats\\stattools.py:74: ValueWarning: omni_normtest is not valid with less than 8 observations; 7 samples were given.\n",
      "  warn(\"omni_normtest is not valid with less than 8 observations; %i \"\n"
     ]
    },
    {
     "data": {
      "image/png": "[encoded data removed]",
      "text/plain": [
       "<Figure size 432x288 with 1 Axes>"
      ]
     },
     "metadata": {
      "needs_background": "light"
     },
     "output_type": "display_data"
    },
    {
     "name": "stdout",
     "output_type": "stream",
     "text": [
      "Regression T-value: 25.407587467051776 vs Critical_value: 2.5705818366147395\n",
      "\n",
      "Predicted Revenue for 2023: 384940.0\n",
      "Predicted EBITDA for 2023:127106.77\n",
      "Predicted Revenue for 2023: 410330.0\n",
      "Predicted EBITDA for 2024:137501.81\n",
      "\n",
      "        Revenue     EBITDA  Ebitda_Margin  EBITDA_%_Growth\n",
      "Years                                                     \n",
      "2018   265595.0   81801.00           0.31              NaN\n",
      "2019   260174.0   76477.00           0.29             -7.0\n",
      "2020   274515.0   77344.00           0.28              1.0\n",
      "2021   365817.0  120233.00           0.33             55.0\n",
      "2022   394328.0  130541.00           0.33              9.0\n",
      "2023   384940.0  127106.77           0.33             -3.0\n",
      "2024   410330.0  137501.81           0.34              8.0\n"
     ]
    },
    {
     "data": {
      "image/png": "[encoded data removed]",
      "text/plain": [
       "<Figure size 432x288 with 1 Axes>"
      ]
     },
     "metadata": {
      "needs_background": "light"
     },
     "output_type": "display_data"
    }
   ],
   "source": [
    "## Working\n",
    "import pandas as pd\n",
    "import matplotlib.pyplot as plt\n",
    "import statsmodels.api as sm\n",
    "import numpy as np\n",
    "\n",
    "\n",
    "Years = [2018,     2019,     2020,    2021,     2022,    2023,     2024]\n",
    "Revenue = [265595.0, 260174.0, 274515.0, 365817.0, 394328.0,384940.0, 410330.0]\n",
    "EBITDA = [81801.0, 76477.0, 77344.0, 120233.0, 130541.0, 127106.77, 137501.81]\n",
    "ebitda_last_y_margin = EBITDA[-1] / Revenue[-1]\n",
    "rev_std = np.std(Revenue)\n",
    "ebitda_sdev = np.std(EBITDA)\n",
    "iterations = 1000\n",
    "\n",
    "\n",
    "X = Revenue\n",
    "Y = EBITDA\n",
    "significance_level = 0.05\n",
    "critical_value = stats.t.ppf(1 - significance_level / 2, len(X) - 2)\n",
    "\n",
    "# Regression summary & visualization \n",
    "Rev = sm.add_constant(X)\n",
    "reg = sm.OLS(Y, Rev).fit()\n",
    "print(reg.summary())\n",
    "plt.scatter(Revenue, EBITDA, label = \"Regression_line\")\n",
    "plt.plot(Revenue, reg.params[0] + reg.params[1] * np.array(Revenue), color='red', label='Regression Line')\n",
    "plt.axis([min(Revenue) - 10000, max(Revenue) + 10000, 0, 180000])\n",
    "plt.xlabel(\"Revenue\")\n",
    "plt.ylabel(\"EBITDA\")\n",
    "plt.show()\n",
    "\n",
    "# EBITDA margin and s.dev calculation\n",
    "def ebitda_sdev_margin(EBITDA , Revenue , Years):\n",
    "    margin = []\n",
    "    for i in range(len(Years)):\n",
    "        calculation = round(EBITDA[i]/Revenue[i],2)\n",
    "        margin.append(calculation)\n",
    "    return margin\n",
    "\n",
    "margin = ebitda_sdev_margin(EBITDA, Revenue, Years)\n",
    "ebitda_sdev = np.std(margin)\n",
    "\n",
    "\n",
    "def ebitda_growth(EBITDA):\n",
    "    y_y_growth = []\n",
    "    for i in range(len(EBITDA) - 1):\n",
    "        calculation = round((EBITDA[i+1] / EBITDA[i]) - 1, 2) * 100 \n",
    "        y_y_growth.append(calculation)\n",
    "    return y_y_growth\n",
    "growth = ebitda_growth(EBITDA)\n",
    "\n",
    "\n",
    "# Accessing t-values\n",
    "t_value = reg.tvalues[1]\n",
    "print(f\"Regression T-value:\", t_value, f\"vs Critical_value:\", critical_value)\n",
    "print()\n",
    "print(f\"Predicted Revenue for 2023: {Revenue[-2]}\")\n",
    "print(f\"Predicted EBITDA for 2023:{EBITDA[-2]}\")\n",
    "print(f\"Predicted Revenue for 2023: {Revenue[-1]}\")\n",
    "print(f\"Predicted EBITDA for 2024:{EBITDA[-1]}\")\n",
    "print()\n",
    "\n",
    "\n",
    "# Predicting the EBITDA based on the regression or Monte Carlo simmulation \n",
    "def prediction(reg):\n",
    "    predicted_revenue = [410330.0]\n",
    "    predicted_value = []\n",
    "\n",
    "    if abs(t_value) > stats.t.ppf(1 - significance_level / 2, len(X) - 2):\n",
    "        for revenue in predicted_revenue:\n",
    "            calculation = round(reg.params[0] + (revenue * reg.params[1]), 2)\n",
    "            predicted_value.append(calculation)\n",
    "    else:\n",
    "        print(f\"The t-stat is too low, have to use the random normal distribution for prediction\")\n",
    "        rev = np.random.normal(predicted_revenue, rev_std, iterations)\n",
    "        calculation_1 = np.round(rev * np.random.normal(ebitda_last_y_margin, ebitda_sdev), 2)\n",
    "        value = calculation_1.mean()\n",
    "        predicted_value.append(value)\n",
    "    return predicted_value\n",
    "\n",
    "\n",
    "# Creating a pandas table \n",
    "table = pd.DataFrame({\"Years\": Years, \"Revenue\": Revenue, \"EBITDA\":EBITDA, \"Ebitda_Margin\": margin,\"EBITDA_%_Growth\": [None] + growth})\n",
    "table.set_index(\"Years\", inplace = True)\n",
    "print(table)\n",
    "\n",
    "\n",
    "# EBITDA and Revenue visualization \n",
    "plt.plot(table[\"Revenue\"], label=\"Revenue\", marker = 'o')\n",
    "plt.plot(table[\"EBITDA\"], label=\"EBITDA\", marker = 'o')\n",
    "plt.xlabel(\"Years\")\n",
    "plt.ylabel(\"Amount\")\n",
    "plt.legend()\n",
    "plt.show()"
   ]
  },
  {
   "cell_type": "code",
   "execution_count": null,
   "metadata": {},
   "outputs": [],
   "source": []
  }
 ],
 "metadata": {
  "kernelspec": {
   "display_name": "base",
   "language": "python",
   "name": "python3"
  },
  "language_info": {
   "codemirror_mode": {
    "name": "ipython",
    "version": 3
   },
   "file_extension": ".py",
   "mimetype": "text/x-python",
   "name": "python",
   "nbconvert_exporter": "python",
   "pygments_lexer": "ipython3",
   "version": "3.9.7"
  },
  "orig_nbformat": 4
 },
 "nbformat": 4,
 "nbformat_minor": 2
}
