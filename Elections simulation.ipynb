{
 "cells": [
  {
   "cell_type": "code",
   "execution_count": 1,
   "metadata": {},
   "outputs": [
    {
     "name": "stdout",
     "output_type": "stream",
     "text": [
      "The winner is the second candidate with 4991 votes in region 1 and 5053 votes in region 2, and the total votes of 10044\n"
     ]
    }
   ],
   "source": [
    "# Simulate an election for two candidates. \n",
    "# The program should take the number of regions and the rating for 1st candidate in each region (in percentage). \n",
    "# The program should run elections in every region. In every region, the program should ask 10 000 voters. \n",
    "# Use the random module to simulate a voice from a person. The candidate counts as a winner if he gains more than 50% of all votes. \n",
    "# The program should print the result of the election for each region and the winner\n",
    "\n",
    "import random\n",
    "\n",
    "region_1 = []\n",
    "region_2 = []\n",
    "total_votes = []\n",
    "votes_for_first_candidate = []\n",
    "votes_for_second_candidate = []\n",
    "\n",
    "\n",
    "def simulate_region_election():\n",
    "    global region_1\n",
    "    global region_2\n",
    "    for i in range(10000):\n",
    "        roll = random.randint(1, 2)\n",
    "        region_1.append(roll)\n",
    "    for i in range(10000):\n",
    "        roll = random.randint(1, 2)\n",
    "        region_2.append(roll)\n",
    "\n",
    "\n",
    "def simulate_election():\n",
    "    global total_votes\n",
    "    total_votes = region_1 + region_2\n",
    "    for i in range(1, 3):\n",
    "        total_votes.count(i)\n",
    "\n",
    "\n",
    "def calculate_result():\n",
    "    global votes_for_first_candidate\n",
    "    global votes_for_second_candidate\n",
    "    for i in total_votes:\n",
    "        if i == 1:\n",
    "            votes_for_first_candidate.append(i)\n",
    "        else:\n",
    "            votes_for_second_candidate.append(i)\n",
    "\n",
    "\n",
    "def announce_result():\n",
    "    global region_1\n",
    "    global region_2\n",
    "    if len(votes_for_first_candidate) > 10000:\n",
    "        print('The winner is the first candidate with ' + str(region_1.count(1)) + ' votes in region 1 and ' + str(region_2.count(1)) + ' votes in region 2, and the total votes of ' + str(region_1.count(1) + region_2.count(1)))\n",
    "    else:\n",
    "        print('The winner is the second candidate with ' + str(region_1.count(2)) + ' votes in region 1 and ' + str(region_2.count(2)) + ' votes in region 2, and the total votes of ' + str(region_1.count(2) + region_2.count(2)))\n",
    "\n",
    "\n",
    "simulate_region_election()\n",
    "simulate_election()\n",
    "calculate_result()\n",
    "announce_result()\n"
   ]
  },
  {
   "cell_type": "code",
   "execution_count": null,
   "metadata": {},
   "outputs": [],
   "source": []
  }
 ],
 "metadata": {
  "kernelspec": {
   "display_name": "base",
   "language": "python",
   "name": "python3"
  },
  "language_info": {
   "codemirror_mode": {
    "name": "ipython",
    "version": 3
   },
   "file_extension": ".py",
   "mimetype": "text/x-python",
   "name": "python",
   "nbconvert_exporter": "python",
   "pygments_lexer": "ipython3",
   "version": "3.9.7"
  },
  "orig_nbformat": 4
 },
 "nbformat": 4,
 "nbformat_minor": 2
}
