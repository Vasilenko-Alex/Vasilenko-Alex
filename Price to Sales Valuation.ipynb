{
 "cells": [
  {
   "cell_type": "code",
   "execution_count": 1,
   "metadata": {},
   "outputs": [
    {
     "name": "stdout",
     "output_type": "stream",
     "text": [
      "Year 2022\n",
      "Price Per Share $ 32.8\n",
      "\n",
      "Year 2023\n",
      "Price Per Share $ 40.7\n",
      "\n",
      "Year 2024\n",
      "Price Per Share $ 49.6\n",
      "\n",
      "Year 2025\n",
      "Price Per Share $ 60.7\n",
      "\n",
      "Year 2026\n",
      "Price Per Share $ 74.5\n",
      "\n"
     ]
    },
    {
     "data": {
      "text/plain": [
       "<function matplotlib.pyplot.show(close=None, block=None)>"
      ]
     },
     "execution_count": 1,
     "metadata": {},
     "output_type": "execute_result"
    },
    {
     "data": {
      "image/png": "[encoded data removed]",
      "text/plain": [
       "<Figure size 432x288 with 1 Axes>"
      ]
     },
     "metadata": {
      "needs_background": "light"
     },
     "output_type": "display_data"
    }
   ],
   "source": [
    "#Price to Sales Valuation: \n",
    "\n",
    "Year = [2022, 2023 , 2024 , 2025 , 2026 ]\n",
    "Revenue = [452.52 , 563.54  , 691.37 , 852.04 , 1051.61]\n",
    "Shares_outstanding = [ 165.5 , 166.3 , 167.36, 168.37 , 169.39]\n",
    "Price_to_sales = [ 12 ]\n",
    "Market_cap_for_year = []\n",
    "Price_per_share = []\n",
    "\n",
    "def valuation():\n",
    "    global Shares_outstanding\n",
    "    global Revenue\n",
    "    global Price_to_sales \n",
    "    global Year\n",
    "    global Market_cap_for_year\n",
    "    global Price_per_share\n",
    "\n",
    "    for i in range(len(Year)):\n",
    "        Market_cap_for_year.append(Revenue[i] * Price_to_sales[0])\n",
    "        Price_per_share.append(Market_cap_for_year[i] / Shares_outstanding [i])\n",
    "    \n",
    "\n",
    "    for i in range(len(Year)):\n",
    "        print (\"Year\", Year[i])\n",
    "        print (\"Price Per Share $\", round(Price_per_share[i], 1 ))\n",
    "        print ()\n",
    "\n",
    "valuation()\n",
    "\n",
    "import matplotlib.pyplot as plt\n",
    "\n",
    "plt.plot (Year , Price_per_share)\n",
    "plt.xlabel ('Year')\n",
    "plt.ylabel('Price per share $')\n",
    "plt.xticks(Year)\n",
    "plt.show\n"
   ]
  },
  {
   "cell_type": "code",
   "execution_count": null,
   "metadata": {},
   "outputs": [],
   "source": []
  }
 ],
 "metadata": {
  "kernelspec": {
   "display_name": "base",
   "language": "python",
   "name": "python3"
  },
  "language_info": {
   "codemirror_mode": {
    "name": "ipython",
    "version": 3
   },
   "file_extension": ".py",
   "mimetype": "text/x-python",
   "name": "python",
   "nbconvert_exporter": "python",
   "pygments_lexer": "ipython3",
   "version": "3.9.7"
  },
  "orig_nbformat": 4
 },
 "nbformat": 4,
 "nbformat_minor": 2
}
