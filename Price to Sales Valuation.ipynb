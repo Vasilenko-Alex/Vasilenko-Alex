{
 "cells": [
  {
   "cell_type": "code",
   "execution_count": 17,
   "metadata": {},
   "outputs": [
    {
     "name": "stdout",
     "output_type": "stream",
     "text": [
      "       Price_per_share\n",
      "Years                 \n",
      "2020             23.62\n",
      "2021             31.84\n",
      "2022             31.41\n",
      "2023             28.72\n",
      "2024             28.02\n"
     ]
    },
    {
     "data": {
      "image/png": "[encoded data removed]",
      "text/plain": [
       "<Figure size 432x288 with 1 Axes>"
      ]
     },
     "metadata": {
      "needs_background": "light"
     },
     "output_type": "display_data"
    }
   ],
   "source": [
    "#Price to Sales Valuation: \n",
    "\n",
    "import pandas as pd\n",
    "Years = [2020, 2021, 2022, 2023, 2024]\n",
    "\n",
    "def valuation():\n",
    "    Revenue = [44.611, 63.495 , 55.554 , 50.790, 49.560 ]\n",
    "    Shares_outstanding = [ 3.777 , 3.988, 3.537, 3.537, 3.537 ]\n",
    "    Price_to_sales = 2 \n",
    "    Market_cap_for_year = []\n",
    "    Price_per_share = []\n",
    "    \n",
    "    for i in range(len(Years)): \n",
    "        Market_cap_for_year.append(round(Revenue[i] * Price_to_sales,2))\n",
    "        Price_per_share.append(round(Market_cap_for_year[i] / Shares_outstanding [i], 2))\n",
    "    \n",
    "    return Market_cap_for_year, Price_per_share\n",
    "\n",
    "market_cap, price_per_share = valuation()\n",
    "\n",
    "\n",
    "    \n",
    "table = pd.DataFrame ({\"Years\": Years,\"Price_per_share\": price_per_share}) \n",
    "table.set_index(\"Years\", inplace = True)\n",
    "print(table)\n",
    "\n",
    "\n",
    "import matplotlib.pyplot as plt\n",
    "\n",
    "plt.plot (table, marker = 'o')\n",
    "plt.xlabel ('Year')\n",
    "plt.ylabel('Price per share $')\n",
    "plt.xticks(Years)\n",
    "plt.legend ([\"Price / Share\"])\n",
    "plt.show()\n"
   ]
  }
 ],
 "metadata": {
  "kernelspec": {
   "display_name": "base",
   "language": "python",
   "name": "python3"
  },
  "language_info": {
   "codemirror_mode": {
    "name": "ipython",
    "version": 3
   },
   "file_extension": ".py",
   "mimetype": "text/x-python",
   "name": "python",
   "nbconvert_exporter": "python",
   "pygments_lexer": "ipython3",
   "version": "3.9.7"
  },
  "orig_nbformat": 4
 },
 "nbformat": 4,
 "nbformat_minor": 2
}
