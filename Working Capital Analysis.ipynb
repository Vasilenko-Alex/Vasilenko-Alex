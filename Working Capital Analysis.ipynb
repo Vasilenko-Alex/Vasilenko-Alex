{
 "cells": [
  {
   "cell_type": "code",
   "execution_count": 15,
   "metadata": {},
   "outputs": [
    {
     "name": "stdout",
     "output_type": "stream",
     "text": [
      "Change in WC per year\n",
      "{2020: 200, 2021: -100, 2022: 350}\n"
     ]
    },
    {
     "data": {
      "image/png": "[encoded data removed]",
      "text/plain": [
       "<Figure size 432x288 with 1 Axes>"
      ]
     },
     "metadata": {
      "needs_background": "light"
     },
     "output_type": "display_data"
    },
    {
     "name": "stdout",
     "output_type": "stream",
     "text": [
      "       DRO  DSO  DPO\n",
      "Years               \n",
      "2020    12   82  101\n",
      "2021    25   79  182\n",
      "2022    19   77  164\n"
     ]
    },
    {
     "data": {
      "image/png": "[encoded data removed]",
      "text/plain": [
       "<Figure size 432x288 with 1 Axes>"
      ]
     },
     "metadata": {
      "needs_background": "light"
     },
     "output_type": "display_data"
    }
   ],
   "source": [
    "import pandas as pd\n",
    "import matplotlib.pyplot as plt\n",
    "\n",
    "years = [2020, 2021, 2022]\n",
    "sales = [ 5000, 4000, 6500]\n",
    "inventory = [150 , 300, 350, 500]\n",
    "accounts_payable = [200, 300, 500, 400 ]\n",
    "accounts_receivable = [100, 250, 300, 400 ]\n",
    "\n",
    "def change_in_wc():\n",
    "    years_wc = [2019,2020,2021,2022]\n",
    "    change_in_nwc_p_y = []\n",
    "    previous_y_nwc = []\n",
    "\n",
    "    for i in range(len(years_wc)):\n",
    "        calculation = inventory[i] + accounts_receivable[i] - accounts_payable[i]\n",
    "        previous_y_nwc.append(calculation)\n",
    "        if i > 0: \n",
    "            change_in_nwc_p_y.append(calculation - previous_y_nwc[i -1])\n",
    "    return change_in_nwc_p_y\n",
    "\n",
    "WC = change_in_wc()\n",
    "print(\"Change in WC per year\")\n",
    "wc_table = dict(zip(years, WC))\n",
    "print (wc_table)\n",
    "\n",
    "plt.bar(years, WC, width=0.4, align='center', color='blue')\n",
    "plt.xlabel(\"Years\")\n",
    "plt.ylabel(\"Change in $lmn\")\n",
    "plt.xticks(years)\n",
    "plt.show()\n",
    "\n",
    "def inventory_turnover_ratio():\n",
    "    COGS = [1000, 1500,2000]\n",
    "    inv_ratio = []\n",
    "    for i in range(len(years)):\n",
    "        calculation = round(COGS[i] / ((inventory [i+1] + inventory [i])/ 2) ,2)\n",
    "        inv_ratio.append(calculation)\n",
    "    return inv_ratio\n",
    "\n",
    "Inv_turn_ratio = inventory_turnover_ratio()\n",
    "\n",
    "def days_sales_outs (inv_ratio):\n",
    "    dso_ratio = []\n",
    "    for ratio in inv_ratio:\n",
    "        calculation = int(365 / ratio)\n",
    "        dso_ratio.append(calculation)\n",
    "    return dso_ratio\n",
    "\n",
    "DSO = days_sales_outs(Inv_turn_ratio)\n",
    "\n",
    "def acc_payable_turn():\n",
    "    total_suppliers_purchases = [900,800,1000]\n",
    "    acc_p_ratio = []\n",
    "    for i in range(len(years)):\n",
    "        calculation = total_suppliers_purchases[i] / ((accounts_payable[i+1] + accounts_payable[i])/2)\n",
    "        acc_p_ratio.append(calculation)\n",
    "    return acc_p_ratio\n",
    "\n",
    "accounts_payable_turnover = acc_payable_turn()\n",
    "\n",
    "def days_payable_outst(acc_p_ratio):\n",
    "    dso_ratio = []\n",
    "    for ratio in acc_p_ratio:\n",
    "        calculation = int(365 / ratio )\n",
    "        dso_ratio.append(calculation)\n",
    "    return dso_ratio\n",
    "\n",
    "DPO = days_payable_outst(accounts_payable_turnover)\n",
    "\n",
    "\n",
    "def ac_receivable_turnover():\n",
    "    acr_ratio = []\n",
    "    for i in range(len(years)):\n",
    "        calculation = sales[i] / ((accounts_receivable [i+1] + accounts_receivable[i])/2)\n",
    "        acr_ratio.append(calculation)\n",
    "    return acr_ratio\n",
    "\n",
    "accounts_receivable_turnover = ac_receivable_turnover()\n",
    "\n",
    "\n",
    "def days_rec_outs(acr_ratio):\n",
    "    dro_ratio = []\n",
    "    for ratio in acr_ratio:\n",
    "        calculation = int(365 / ratio)\n",
    "        dro_ratio.append(calculation)\n",
    "    return dro_ratio\n",
    "\n",
    "DRO = days_rec_outs(accounts_receivable_turnover)\n",
    "\n",
    "table = pd.DataFrame({\"DRO\": DRO , \"DSO\":DSO, \"DPO\":DPO}, index = years)\n",
    "table.index.name = \"Years\"\n",
    "print(table)\n",
    "\n",
    "plt.plot(table)\n",
    "plt.xlabel(\"Year\")\n",
    "plt.legend([\"DSO\", \"DRO\", \"DPO\"])\n",
    "plt.ylabel(\"Days\")\n",
    "plt.xticks(years)\n",
    "plt.show()\n",
    "\n",
    "\n",
    "    \n",
    "\n",
    "\n",
    "\n",
    "\n",
    "\n",
    "\n",
    "\n",
    "\n",
    "\n"
   ]
  },
  {
   "cell_type": "code",
   "execution_count": null,
   "metadata": {},
   "outputs": [],
   "source": []
  }
 ],
 "metadata": {
  "kernelspec": {
   "display_name": "base",
   "language": "python",
   "name": "python3"
  },
  "language_info": {
   "codemirror_mode": {
    "name": "ipython",
    "version": 3
   },
   "file_extension": ".py",
   "mimetype": "text/x-python",
   "name": "python",
   "nbconvert_exporter": "python",
   "pygments_lexer": "ipython3",
   "version": "3.9.7"
  },
  "orig_nbformat": 4
 },
 "nbformat": 4,
 "nbformat_minor": 2
}
