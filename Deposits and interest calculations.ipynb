{
 "cells": [
  {
   "cell_type": "code",
   "execution_count": null,
   "metadata": {},
   "outputs": [],
   "source": [
    "#a) Define a global variable called balance and set it to 1000. \n",
    "# Write a function called transaction that takes an argument amount and argument _type that can be either deposit or withdrawal.              \n",
    "#b) Inside the function create two inner functions called deposit and withdrawal that take an argument amount.              \n",
    "#c) Inside the deposit function, add the amount to the balance variable and print the new balance.              \n",
    "#d) Inside the withdrawal function, subtract the amount from the balance variable and print the new balance.              \n",
    "#e) Inside the transaction function, check if the _type argument is deposit or withdrawal and call the appropriate function.\n",
    "\n",
    "balance = 1000\n",
    "\n",
    "def transaction (argument_amount, argument_type):\n",
    "    if argument_type == \"deposit\":\n",
    "        return deposit(argument_amount)\n",
    "    else:\n",
    "        return withdrawal(argument_amount)\n",
    "        \n",
    "def deposit(argument_amount):\n",
    "    new_balance = balance + argument_amount\n",
    "    return new_balance\n",
    "\n",
    "def withdrawal (argument_amount):\n",
    "    new_balance = balance - argument_amount\n",
    "    return new_balance\n",
    "\n",
    "print(transaction(100,\"deposit\"))\n"
   ]
  },
  {
   "cell_type": "code",
   "execution_count": null,
   "metadata": {},
   "outputs": [],
   "source": [
    "#5. Write a function that calculates the performance of a deposit in a bank account. \n",
    "#The function called simple_interest takes three arguments: the initial amount, the annual interest rate (as a float), and the time in years. \n",
    "#The function should return the final amount after the simple interest has been applied. \n",
    "#Use a for loop to accomplish this. Round the answer to the nearest hundredth.\n",
    "\n",
    "def compound_interest(initial_amount, interest_rate, years):\n",
    "    for i in range(years):\n",
    "        interest_paid_in_a_year = initial_amount * interest_rate\n",
    "        initial_amount += interest_paid_in_a_year\n",
    "    return round(initial_amount, 2) \n",
    "\n",
    "print(compound_interest(10000, 0.1, 10))\n"
   ]
  }
 ],
 "metadata": {
  "language_info": {
   "name": "python"
  },
  "orig_nbformat": 4
 },
 "nbformat": 4,
 "nbformat_minor": 2
}
